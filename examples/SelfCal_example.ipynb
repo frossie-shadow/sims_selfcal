{
 "cells": [
  {
   "cell_type": "markdown",
   "metadata": {},
   "source": [
    "Try out the self calibration routines.\n",
    "May need to: pip install statsmodels\n",
    "\n",
    "to get the clouds in there"
   ]
  },
  {
   "cell_type": "code",
   "execution_count": 11,
   "metadata": {
    "collapsed": false
   },
   "outputs": [],
   "source": [
    "%matplotlib inline\n",
    "import numpy as np\n",
    "from lsst.sims.selfcal.generation import genCatalog, offsets, visitOffsets\n",
    "import lsst.sims.maf.db as db\n"
   ]
  },
  {
   "cell_type": "code",
   "execution_count": 3,
   "metadata": {
    "collapsed": false
   },
   "outputs": [],
   "source": [
    "# generate the visits using OpSim output\n",
    "\n",
    "# What filter to use\n",
    "lsstFilter = 'r'\n",
    "# Read in an Opsim database. Can download from https://www.lsst.org/scientists/simulations/opsim/opsim-v335-benchmark-surveys \n",
    "opsimDB = db.OpsimDatabase('minion_1016_sqlite.db')\n",
    "# Set region to look in\n",
    "ralim=np.radians(np.array([40,60]) )\n",
    "declim=np.radians(np.array([-40,-60]))\n",
    "# How long into the survey\n",
    "nightMax = 730\n",
    "\n",
    "# Columns to pull from OpSim\n",
    "cols = ['ditheredRA', 'ditheredDec', 'rotSkyPos', 'night', 'expMJD','fiveSigmaDepth','obsHistID','transparency' ]\n",
    "\n",
    "visits = opsimDB.fetchMetricData(cols,'ditheredRA < %f and ditheredRA > %f and ditheredDec > %f and ditheredDec < %f and  filter=\"%s\" and night < %i'%(ralim[1],ralim[0],declim[1],declim[0],lsstFilter,nightMax  ))\n",
    "\n",
    "# Make dtype names more generic and add any other stuff we want:\n",
    "visits = visitOffsets(visits, zpOff=1.)\n"
   ]
  },
  {
   "cell_type": "code",
   "execution_count": 5,
   "metadata": {
    "collapsed": false
   },
   "outputs": [],
   "source": [
    "# The different offsets to simulate in the observed stellar magnitudes\n",
    "offsetList=[]\n",
    "# Systematic error floor for photometry\n",
    "offsetList.append(offsets.OffsetSys())\n",
    "# SNR\n",
    "offsetList.append(offsets.OffsetSNR())\n",
    "# Clouds\n",
    "offsetList.append(offsets.OffsetClouds())"
   ]
  },
  {
   "cell_type": "code",
   "execution_count": 7,
   "metadata": {
    "collapsed": false
   },
   "outputs": [
    {
     "name": "stdout",
     "output_type": "stream",
     "text": [
      "quering stars with: decl > -71.800000 and decl < -58.200000 and ra < 65.763044 and ra > 34.236956 \n",
      "got 10765 stars\n"
     ]
    },
    {
     "name": "stderr",
     "output_type": "stream",
     "text": [
      "/Users/yoachim/lsst/DarwinX86/miniconda2/3.19.0.lsst4/lib/python2.7/site-packages/numpy/core/numeric.py:190: VisibleDeprecationWarning: using a non-integer number instead of an integer will result in an error in the future\n",
      "  a = empty(shape, dtype, order)\n",
      "/Users/yoachim/gitRepos/sims_selfcal/python/lsst/sims/selfcal/clouds/Arma/pImage.py:266: VisibleDeprecationWarning: using a non-integer number instead of an integer will result in an error in the future\n",
      "  self.phasespecI[self.xcen+1:self.nx, self.ycen+1:self.ny] = -1.*numpy.fliplr(numpy.flipud(self.phasespecI[1:self.xcen, 1:self.ycen]))\n",
      "/Users/yoachim/gitRepos/sims_selfcal/python/lsst/sims/selfcal/clouds/Arma/pImage.py:268: VisibleDeprecationWarning: using a non-integer number instead of an integer will result in an error in the future\n",
      "  self.phasespecI[1:self.xcen, self.ycen+1:self.ny] = -1.*numpy.fliplr(numpy.flipud(self.phasespecI[self.xcen+1:self.nx, 1:self.ycen]))\n",
      "/Users/yoachim/gitRepos/sims_selfcal/python/lsst/sims/selfcal/clouds/Arma/Clouds.py:83: VisibleDeprecationWarning: using a non-integer number instead of an integer will result in an error in the future\n",
      "  self.cloudimage = im.imageI.real[trim:trim+self.final_imsize, trim:trim+self.final_imsize]\n"
     ]
    },
    {
     "name": "stdout",
     "output_type": "stream",
     "text": [
      "quering stars with: decl > -61.800000 and decl < -48.200000 and ra < 63.809115 and ra > 36.190885 \n",
      "got 12556 stars\n",
      "quering stars with: decl > -51.800000 and decl < -38.200000 and ra < 62.910698 and ra > 37.089302 \n",
      "got 14265 stars\n"
     ]
    }
   ],
   "source": [
    "# Generate the catalog of observed stellar magnitudes. Can download the msrgb_1e6.sqlite file from:\n",
    "# https://lsst-web.ncsa.illinois.edu/sim-data/cal_star_databases/\n",
    "# That's a subset of stars pulled from the CatSim database. In theory, I have a 25 million star one laying around somehwere too.\n",
    "nobs, nstars = genCatalog(visits, 'msrgb_1e6.sqlite', offsets=offsetList,lsstFilter=lsstFilter)\n",
    "\n",
    "# This generates an observations.dat file and starInfo.dat file. "
   ]
  },
  {
   "cell_type": "code",
   "execution_count": 8,
   "metadata": {
    "collapsed": true
   },
   "outputs": [],
   "source": [
    "# Now to run the selfcal on the generated catalog\n",
    "from __future__ import print_function\n",
    "from builtins import zip\n",
    "from lsst.sims.selfcal.solver import lsqrSolver\n",
    "from lsst.sims.selfcal.utils import fastRead\n",
    "import numpy as np\n",
    "import matplotlib.pylab as plt\n",
    "from lsst.sims.selfcal.analysis.healplots import healbin\n",
    "import healpy as hp\n"
   ]
  },
  {
   "cell_type": "code",
   "execution_count": 9,
   "metadata": {
    "collapsed": true
   },
   "outputs": [],
   "source": [
    "def robustRMS(val):\n",
    "    iqr = np.percentile(val,75)-np.percentile(val,25)\n",
    "    return iqr/1.349\n"
   ]
  },
  {
   "cell_type": "code",
   "execution_count": 10,
   "metadata": {
    "collapsed": false
   },
   "outputs": [
    {
     "name": "stdout",
     "output_type": "stream",
     "text": [
      "# Reading file observations.dat\n",
      " \n",
      "LSQR            Least-squares solution of  Ax = b\n",
      "The matrix A has   561517 rows  and    35608 cols\n",
      "damp = 0.00000000000000e+00   calc_var =        0\n",
      "atol = 1.00e-08                 conlim = 1.00e+08\n",
      "btol = 1.00e-08               iter_lim =    71216\n",
      " \n",
      "   Itn      x[0]       r1norm     r2norm   Compatible    LS      Norm A   Cond A\n",
      "     0  0.00000e+00   2.383e+06  2.383e+06    1.0e+00  6.8e-04\n",
      "     1  3.28728e+00   4.915e+05  4.915e+05    2.1e-01  6.6e-01   1.7e+03  1.0e+00\n",
      "     2  5.15328e+00   2.865e+05  2.865e+05    1.2e-01  3.8e-01   2.1e+03  2.1e+00\n",
      "     3  7.25153e+00   1.793e+05  1.793e+05    7.5e-02  3.6e-01   2.5e+03  3.5e+00\n",
      "     4  8.69597e+00   1.134e+05  1.134e+05    4.8e-02  2.6e-01   2.8e+03  5.0e+00\n",
      "     5  9.15799e+00   8.356e+04  8.356e+04    3.5e-02  2.2e-01   3.1e+03  6.4e+00\n",
      "     6  9.23867e+00   6.267e+04  6.267e+04    2.6e-02  1.9e-01   3.3e+03  8.1e+00\n",
      "     7  9.26191e+00   5.063e+04  5.063e+04    2.1e-02  1.5e-01   3.5e+03  9.8e+00\n",
      "     8  9.23524e+00   4.351e+04  4.351e+04    1.8e-02  1.2e-01   3.7e+03  1.2e+01\n",
      "     9  9.24002e+00   3.883e+04  3.883e+04    1.6e-02  9.5e-02   4.0e+03  1.3e+01\n",
      "    10  9.36266e+00   3.578e+04  3.578e+04    1.5e-02  8.2e-02   4.1e+03  1.5e+01\n",
      "   459  1.00256e+01   2.278e+03  2.278e+03    9.6e-04  9.5e-08   2.6e+04  2.9e+03\n",
      "   460  1.00256e+01   2.278e+03  2.278e+03    9.6e-04  8.8e-08   2.6e+04  2.9e+03\n",
      "   461  1.00256e+01   2.278e+03  2.278e+03    9.6e-04  8.2e-08   2.6e+04  2.9e+03\n",
      "   462  1.00256e+01   2.278e+03  2.278e+03    9.6e-04  7.7e-08   2.6e+04  2.9e+03\n",
      "   463  1.00256e+01   2.278e+03  2.278e+03    9.6e-04  7.4e-08   2.6e+04  2.9e+03\n",
      "   464  1.00256e+01   2.278e+03  2.278e+03    9.6e-04  7.1e-08   2.6e+04  2.9e+03\n",
      "   465  1.00256e+01   2.278e+03  2.278e+03    9.6e-04  6.6e-08   2.6e+04  3.0e+03\n",
      "   466  1.00256e+01   2.278e+03  2.278e+03    9.6e-04  6.2e-08   2.6e+04  3.0e+03\n",
      "   467  1.00256e+01   2.278e+03  2.278e+03    9.6e-04  5.7e-08   2.6e+04  3.0e+03\n",
      "   468  1.00256e+01   2.278e+03  2.278e+03    9.6e-04  5.4e-08   2.6e+04  3.0e+03\n",
      "   469  1.00256e+01   2.278e+03  2.278e+03    9.6e-04  5.2e-08   2.7e+04  3.0e+03\n",
      "   470  1.00256e+01   2.278e+03  2.278e+03    9.6e-04  5.0e-08   2.7e+04  3.0e+03\n",
      "   471  1.00256e+01   2.278e+03  2.278e+03    9.6e-04  4.8e-08   2.7e+04  3.0e+03\n",
      "   472  1.00256e+01   2.278e+03  2.278e+03    9.6e-04  4.5e-08   2.7e+04  3.0e+03\n",
      "   473  1.00256e+01   2.278e+03  2.278e+03    9.6e-04  4.1e-08   2.7e+04  3.0e+03\n",
      "   474  1.00256e+01   2.278e+03  2.278e+03    9.6e-04  3.9e-08   2.7e+04  3.0e+03\n",
      "   475  1.00256e+01   2.278e+03  2.278e+03    9.6e-04  3.7e-08   2.7e+04  3.0e+03\n",
      "   476  1.00256e+01   2.278e+03  2.278e+03    9.6e-04  3.5e-08   2.7e+04  3.0e+03\n",
      "   477  1.00256e+01   2.278e+03  2.278e+03    9.6e-04  3.3e-08   2.7e+04  3.0e+03\n",
      "   478  1.00256e+01   2.278e+03  2.278e+03    9.6e-04  3.1e-08   2.7e+04  3.0e+03\n",
      "   479  1.00256e+01   2.278e+03  2.278e+03    9.6e-04  3.0e-08   2.7e+04  3.0e+03\n",
      "   480  1.00256e+01   2.278e+03  2.278e+03    9.6e-04  2.8e-08   2.7e+04  3.0e+03\n",
      "   481  1.00256e+01   2.278e+03  2.278e+03    9.6e-04  2.8e-08   2.7e+04  3.0e+03\n",
      "   482  1.00256e+01   2.278e+03  2.278e+03    9.6e-04  2.7e-08   2.7e+04  3.0e+03\n",
      "   483  1.00256e+01   2.278e+03  2.278e+03    9.6e-04  2.6e-08   2.7e+04  3.0e+03\n",
      "   484  1.00256e+01   2.278e+03  2.278e+03    9.6e-04  2.5e-08   2.7e+04  3.0e+03\n",
      "   485  1.00256e+01   2.278e+03  2.278e+03    9.6e-04  2.4e-08   2.7e+04  3.0e+03\n",
      "   486  1.00256e+01   2.278e+03  2.278e+03    9.6e-04  2.2e-08   2.7e+04  3.0e+03\n",
      "   487  1.00256e+01   2.278e+03  2.278e+03    9.6e-04  2.1e-08   2.7e+04  3.1e+03\n",
      "   488  1.00256e+01   2.278e+03  2.278e+03    9.6e-04  2.0e-08   2.7e+04  3.1e+03\n",
      "   489  1.00256e+01   2.278e+03  2.278e+03    9.6e-04  1.9e-08   2.7e+04  3.1e+03\n",
      "   490  1.00256e+01   2.278e+03  2.278e+03    9.6e-04  1.8e-08   2.7e+04  3.1e+03\n",
      "   491  1.00256e+01   2.278e+03  2.278e+03    9.6e-04  1.7e-08   2.7e+04  3.1e+03\n",
      "   492  1.00256e+01   2.278e+03  2.278e+03    9.6e-04  1.6e-08   2.7e+04  3.1e+03\n",
      "   493  1.00256e+01   2.278e+03  2.278e+03    9.6e-04  1.5e-08   2.7e+04  3.1e+03\n",
      "   494  1.00256e+01   2.278e+03  2.278e+03    9.6e-04  1.4e-08   2.7e+04  3.1e+03\n",
      "   495  1.00256e+01   2.278e+03  2.278e+03    9.6e-04  1.4e-08   2.7e+04  3.1e+03\n",
      "   496  1.00256e+01   2.278e+03  2.278e+03    9.6e-04  1.3e-08   2.7e+04  3.1e+03\n",
      "   497  1.00256e+01   2.278e+03  2.278e+03    9.6e-04  1.3e-08   2.7e+04  3.1e+03\n",
      "   498  1.00256e+01   2.278e+03  2.278e+03    9.6e-04  1.3e-08   2.7e+04  3.1e+03\n",
      "   499  1.00256e+01   2.278e+03  2.278e+03    9.6e-04  1.2e-08   2.7e+04  3.1e+03\n",
      "   500  1.00256e+01   2.278e+03  2.278e+03    9.6e-04  1.1e-08   2.7e+04  3.1e+03\n",
      "   501  1.00256e+01   2.278e+03  2.278e+03    9.6e-04  1.1e-08   2.7e+04  3.1e+03\n",
      "   502  1.00256e+01   2.278e+03  2.278e+03    9.6e-04  1.0e-08   2.7e+04  3.1e+03\n",
      "   503  1.00256e+01   2.278e+03  2.278e+03    9.6e-04  9.9e-09   2.7e+04  3.1e+03\n",
      " \n",
      "LSQR finished\n",
      "The least-squares solution is good enough, given atol     \n",
      " \n",
      "istop =       2   r1norm = 2.3e+03   anorm = 2.7e+04   arnorm = 6.2e-01\n",
      "itn   =     503   r2norm = 2.3e+03   acond = 3.1e+03   xnorm  = 1.7e+03\n",
      " \n"
     ]
    }
   ],
   "source": [
    "mySolver = lsqrSolver(infile='observations.dat', patchOut='solvedPatch.npz', starOut='solvedStar.npz')\n",
    "mySolver.run()\n"
   ]
  },
  {
   "cell_type": "code",
   "execution_count": 12,
   "metadata": {
    "collapsed": false
   },
   "outputs": [
    {
     "name": "stdout",
     "output_type": "stream",
     "text": [
      "# Reading file starInfo.dat\n"
     ]
    }
   ],
   "source": [
    "# Read in the truth and fits\n",
    "starsFit = np.load('solvedStar.npz')['result']\n",
    "trueStars = fastRead('starInfo.dat', dtype=list(zip(['starID','TrueMag', 'ra','dec'],\n",
    "                                               [int,float,float,float])),\n",
    "                                               delimiter=',')\n",
    "trueStars.sort(order='starID')\n",
    "\n",
    "# Remove any stars that were observed but not fit\n",
    "mask = np.in1d(trueStars['starID'], starsFit['starID'], assume_unique=True)\n",
    "trueStars = trueStars[mask]\n",
    "\n",
    "resid = starsFit['fitMag'] - trueStars['TrueMag']\n",
    "\n",
    "resid = resid-np.median(resid)\n"
   ]
  },
  {
   "cell_type": "code",
   "execution_count": 13,
   "metadata": {
    "collapsed": false
   },
   "outputs": [
    {
     "name": "stdout",
     "output_type": "stream",
     "text": [
      "median fitMag - TrueMag = -0.000000\n",
      "std (fitMag - TrueMag) = 0.007314\n",
      "robust RMS = 0.006338\n"
     ]
    }
   ],
   "source": [
    "\n",
    "print('median fitMag - TrueMag = %f'%np.median(resid))\n",
    "print('std (fitMag - TrueMag) = %f'%np.std(resid))\n",
    "print('robust RMS = %f'%robustRMS(resid))\n",
    "rrms = robustRMS(resid)"
   ]
  },
  {
   "cell_type": "code",
   "execution_count": 14,
   "metadata": {
    "collapsed": false
   },
   "outputs": [
    {
     "data": {
      "text/plain": [
       "<matplotlib.text.Text at 0x1113c36d0>"
      ]
     },
     "execution_count": 14,
     "metadata": {},
     "output_type": "execute_result"
    },
    {
     "data": {
      "image/png": "[encoded data removed]",
      "text/plain": [
       "<matplotlib.figure.Figure at 0x1113b2110>"
      ]
     },
     "metadata": {},
     "output_type": "display_data"
    }
   ],
   "source": [
    "plt.hist(resid, bins=100, range=(-4*rrms,4*rrms))\n",
    "plt.xlabel('Fit-True (mags)')\n",
    "plt.ylabel('#')"
   ]
  },
  {
   "cell_type": "code",
   "execution_count": 15,
   "metadata": {
    "collapsed": false
   },
   "outputs": [
    {
     "name": "stderr",
     "output_type": "stream",
     "text": [
      "/Users/yoachim/lsst/DarwinX86/miniconda2/3.19.0.lsst4/lib/python2.7/site-packages/numpy/core/_methods.py:59: RuntimeWarning: Mean of empty slice.\n",
      "  warnings.warn(\"Mean of empty slice.\", RuntimeWarning)\n"
     ]
    },
    {
     "data": {
      "image/png": "[encoded data removed]",
      "text/plain": [
       "<matplotlib.figure.Figure at 0x10f940e10>"
      ]
     },
     "metadata": {},
     "output_type": "display_data"
    }
   ],
   "source": [
    "healmap = healbin(np.radians(trueStars['ra']), np.radians(trueStars['dec']), resid)\n",
    "hp.mollview(healmap, min =-4*rrms, max=4*rrms, unit='Residuals (mag)')"
   ]
  },
  {
   "cell_type": "code",
   "execution_count": null,
   "metadata": {
    "collapsed": true
   },
   "outputs": [],
   "source": []
  }
 ],
 "metadata": {
  "anaconda-cloud": {},
  "kernelspec": {
   "display_name": "Python [conda root]",
   "language": "python",
   "name": "conda-root-py"
  },
  "language_info": {
   "codemirror_mode": {
    "name": "ipython",
    "version": 2
   },
   "file_extension": ".py",
   "mimetype": "text/x-python",
   "name": "python",
   "nbconvert_exporter": "python",
   "pygments_lexer": "ipython2",
   "version": "2.7.12"
  }
 },
 "nbformat": 4,
 "nbformat_minor": 1
}
